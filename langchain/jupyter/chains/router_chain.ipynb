{
 "cells": [
  {
   "cell_type": "markdown",
   "id": "c3e2458f-d038-4845-93a0-d4ad830f9f90",
   "metadata": {},
   "source": [
    "# LangChain 核心模块学习：Chains\n",
    "\n",
    "对于简单的大模型应用，单独使用语言模型（LLMs）是可以的。\n",
    "\n",
    "**但更复杂的大模型应用需要将 `LLMs` 和 `Chat Models` 链接在一起 - 要么彼此链接，要么与其他组件链接。**\n",
    "\n",
    "LangChain 为这种“链式”应用程序提供了 `Chain` 接口。\n",
    "\n",
    "LangChain 以通用方式定义了 `Chain`，它是对组件进行调用序列的集合，其中可以包含其他链。"
   ]
  },
  {
   "cell_type": "code",
   "id": "24efe291-8745-4e78-bdb4-648e60d7bac8",
   "metadata": {
    "ExecuteTime": {
     "end_time": "2024-07-23T08:05:55.436750Z",
     "start_time": "2024-07-23T08:05:36.112056Z"
    }
   },
   "source": [
    "! pip install -U langchain"
   ],
   "outputs": [
    {
     "name": "stdout",
     "output_type": "stream",
     "text": [
      "Looking in indexes: https://pypi.tuna.tsinghua.edu.cn/simple\n",
      "Requirement already satisfied: langchain in c:\\programdata\\miniconda3\\envs\\langchain\\lib\\site-packages (0.2.0)\n",
      "Collecting langchain\n",
      "  Downloading https://pypi.tuna.tsinghua.edu.cn/packages/ff/67/ebe51e46975c07ec030f3d80d5b8be7313ebf6efdcede57f6c7be06be0b8/langchain-0.2.10-py3-none-any.whl (990 kB)\n",
      "     ---------------------------------------- 0.0/990.0 kB ? eta -:--:--\n",
      "     ---------------------------------------- 10.2/990.0 kB ? eta -:--:--\n",
      "     -- ---------------------------------- 61.4/990.0 kB 656.4 kB/s eta 0:00:02\n",
      "     -- ---------------------------------- 61.4/990.0 kB 656.4 kB/s eta 0:00:02\n",
      "     --- --------------------------------- 92.2/990.0 kB 525.1 kB/s eta 0:00:02\n",
      "     ----- ------------------------------ 153.6/990.0 kB 657.6 kB/s eta 0:00:02\n",
      "     ------- ---------------------------- 204.8/990.0 kB 778.2 kB/s eta 0:00:02\n",
      "     --------- -------------------------- 256.0/990.0 kB 830.3 kB/s eta 0:00:01\n",
      "     ---------------- --------------------- 440.3/990.0 kB 1.3 MB/s eta 0:00:01\n",
      "     -------------------- ----------------- 532.5/990.0 kB 1.3 MB/s eta 0:00:01\n",
      "     -------------------- ----------------- 532.5/990.0 kB 1.3 MB/s eta 0:00:01\n",
      "     -------------------- ----------------- 532.5/990.0 kB 1.3 MB/s eta 0:00:01\n",
      "     -------------------- ----------------- 532.5/990.0 kB 1.3 MB/s eta 0:00:01\n",
      "     ------------------------ ------------- 645.1/990.0 kB 1.1 MB/s eta 0:00:01\n",
      "     ------------------------------ ------- 798.7/990.0 kB 1.2 MB/s eta 0:00:01\n",
      "     ------------------------------ ------- 798.7/990.0 kB 1.2 MB/s eta 0:00:01\n",
      "     ------------------------------ ------- 798.7/990.0 kB 1.2 MB/s eta 0:00:01\n",
      "     ---------------------------------- --- 911.4/990.0 kB 1.2 MB/s eta 0:00:01\n",
      "     ---------------------------------- --- 911.4/990.0 kB 1.2 MB/s eta 0:00:01\n",
      "     -------------------------------------- 990.0/990.0 kB 1.1 MB/s eta 0:00:00\n",
      "Requirement already satisfied: PyYAML>=5.3 in c:\\programdata\\miniconda3\\envs\\langchain\\lib\\site-packages (from langchain) (6.0.1)\n",
      "Requirement already satisfied: SQLAlchemy<3,>=1.4 in c:\\programdata\\miniconda3\\envs\\langchain\\lib\\site-packages (from langchain) (2.0.31)\n",
      "Requirement already satisfied: aiohttp<4.0.0,>=3.8.3 in c:\\programdata\\miniconda3\\envs\\langchain\\lib\\site-packages (from langchain) (3.9.5)\n",
      "Requirement already satisfied: async-timeout<5.0.0,>=4.0.0 in c:\\programdata\\miniconda3\\envs\\langchain\\lib\\site-packages (from langchain) (4.0.3)\n",
      "Collecting langchain-core<0.3.0,>=0.2.22 (from langchain)\n",
      "  Downloading https://pypi.tuna.tsinghua.edu.cn/packages/73/dc/7b22993585146d638f8f0b42656f6f11f0fc2d6155b6912fafc069df7d5d/langchain_core-0.2.22-py3-none-any.whl (373 kB)\n",
      "     ---------------------------------------- 0.0/373.5 kB ? eta -:--:--\n",
      "     -------------- ----------------------- 143.4/373.5 kB 4.3 MB/s eta 0:00:01\n",
      "     ---------------------- --------------- 225.3/373.5 kB 4.7 MB/s eta 0:00:01\n",
      "     ---------------------- --------------- 225.3/373.5 kB 4.7 MB/s eta 0:00:01\n",
      "     -------------------------------------- 373.5/373.5 kB 2.3 MB/s eta 0:00:00\n",
      "Requirement already satisfied: langchain-text-splitters<0.3.0,>=0.2.0 in c:\\programdata\\miniconda3\\envs\\langchain\\lib\\site-packages (from langchain) (0.2.0)\n",
      "Requirement already satisfied: langsmith<0.2.0,>=0.1.17 in c:\\programdata\\miniconda3\\envs\\langchain\\lib\\site-packages (from langchain) (0.1.65)\n",
      "Requirement already satisfied: numpy<2,>=1 in c:\\programdata\\miniconda3\\envs\\langchain\\lib\\site-packages (from langchain) (1.26.4)\n",
      "Requirement already satisfied: pydantic<3,>=1 in c:\\programdata\\miniconda3\\envs\\langchain\\lib\\site-packages (from langchain) (2.8.2)\n",
      "Requirement already satisfied: requests<3,>=2 in c:\\programdata\\miniconda3\\envs\\langchain\\lib\\site-packages (from langchain) (2.31.0)\n",
      "Requirement already satisfied: tenacity!=8.4.0,<9.0.0,>=8.1.0 in c:\\programdata\\miniconda3\\envs\\langchain\\lib\\site-packages (from langchain) (8.5.0)\n",
      "Requirement already satisfied: aiosignal>=1.1.2 in c:\\programdata\\miniconda3\\envs\\langchain\\lib\\site-packages (from aiohttp<4.0.0,>=3.8.3->langchain) (1.3.1)\n",
      "Requirement already satisfied: attrs>=17.3.0 in c:\\programdata\\miniconda3\\envs\\langchain\\lib\\site-packages (from aiohttp<4.0.0,>=3.8.3->langchain) (23.2.0)\n",
      "Requirement already satisfied: frozenlist>=1.1.1 in c:\\programdata\\miniconda3\\envs\\langchain\\lib\\site-packages (from aiohttp<4.0.0,>=3.8.3->langchain) (1.4.1)\n",
      "Requirement already satisfied: multidict<7.0,>=4.5 in c:\\programdata\\miniconda3\\envs\\langchain\\lib\\site-packages (from aiohttp<4.0.0,>=3.8.3->langchain) (6.0.5)\n",
      "Requirement already satisfied: yarl<2.0,>=1.0 in c:\\programdata\\miniconda3\\envs\\langchain\\lib\\site-packages (from aiohttp<4.0.0,>=3.8.3->langchain) (1.9.4)\n",
      "Requirement already satisfied: jsonpatch<2.0,>=1.33 in c:\\programdata\\miniconda3\\envs\\langchain\\lib\\site-packages (from langchain-core<0.3.0,>=0.2.22->langchain) (1.33)\n",
      "Collecting langsmith<0.2.0,>=0.1.17 (from langchain)\n",
      "  Downloading https://pypi.tuna.tsinghua.edu.cn/packages/97/06/f7a49f0414796ba181a31ef0a26a9f9a3af193327cbf21a668e72d769076/langsmith-0.1.93-py3-none-any.whl (139 kB)\n",
      "     ---------------------------------------- 0.0/139.8 kB ? eta -:--:--\n",
      "     -------- ------------------------------- 30.7/139.8 kB ? eta -:--:--\n",
      "     -------- ------------------------------- 30.7/139.8 kB ? eta -:--:--\n",
      "     ------------------------ ------------ 92.2/139.8 kB 655.4 kB/s eta 0:00:01\n",
      "     ------------------------ ------------ 92.2/139.8 kB 655.4 kB/s eta 0:00:01\n",
      "     ------------------------------------ 139.8/139.8 kB 638.3 kB/s eta 0:00:00\n",
      "Requirement already satisfied: packaging<25,>=23.2 in c:\\programdata\\miniconda3\\envs\\langchain\\lib\\site-packages (from langchain-core<0.3.0,>=0.2.22->langchain) (23.2)\n",
      "Requirement already satisfied: orjson<4.0.0,>=3.9.14 in c:\\programdata\\miniconda3\\envs\\langchain\\lib\\site-packages (from langsmith<0.2.0,>=0.1.17->langchain) (3.10.6)\n",
      "Requirement already satisfied: annotated-types>=0.4.0 in c:\\programdata\\miniconda3\\envs\\langchain\\lib\\site-packages (from pydantic<3,>=1->langchain) (0.7.0)\n",
      "Requirement already satisfied: pydantic-core==2.20.1 in c:\\programdata\\miniconda3\\envs\\langchain\\lib\\site-packages (from pydantic<3,>=1->langchain) (2.20.1)\n",
      "Requirement already satisfied: typing-extensions>=4.6.1 in c:\\programdata\\miniconda3\\envs\\langchain\\lib\\site-packages (from pydantic<3,>=1->langchain) (4.9.0)\n",
      "Requirement already satisfied: charset-normalizer<4,>=2 in c:\\programdata\\miniconda3\\envs\\langchain\\lib\\site-packages (from requests<3,>=2->langchain) (3.3.2)\n",
      "Requirement already satisfied: idna<4,>=2.5 in c:\\programdata\\miniconda3\\envs\\langchain\\lib\\site-packages (from requests<3,>=2->langchain) (3.6)\n",
      "Requirement already satisfied: urllib3<3,>=1.21.1 in c:\\programdata\\miniconda3\\envs\\langchain\\lib\\site-packages (from requests<3,>=2->langchain) (1.26.18)\n",
      "Requirement already satisfied: certifi>=2017.4.17 in c:\\programdata\\miniconda3\\envs\\langchain\\lib\\site-packages (from requests<3,>=2->langchain) (2024.2.2)\n",
      "Requirement already satisfied: greenlet!=0.4.17 in c:\\programdata\\miniconda3\\envs\\langchain\\lib\\site-packages (from SQLAlchemy<3,>=1.4->langchain) (3.0.3)\n",
      "Requirement already satisfied: jsonpointer>=1.9 in c:\\programdata\\miniconda3\\envs\\langchain\\lib\\site-packages (from jsonpatch<2.0,>=1.33->langchain-core<0.3.0,>=0.2.22->langchain) (3.0.0)\n",
      "Installing collected packages: langsmith, langchain-core, langchain\n",
      "  Attempting uninstall: langsmith\n",
      "    Found existing installation: langsmith 0.1.65\n",
      "    Uninstalling langsmith-0.1.65:\n",
      "      Successfully uninstalled langsmith-0.1.65\n",
      "  Attempting uninstall: langchain-core\n",
      "    Found existing installation: langchain-core 0.2.1\n",
      "    Uninstalling langchain-core-0.2.1:\n",
      "      Successfully uninstalled langchain-core-0.2.1\n",
      "  Attempting uninstall: langchain\n",
      "    Found existing installation: langchain 0.2.0\n",
      "    Uninstalling langchain-0.2.0:\n",
      "      Successfully uninstalled langchain-0.2.0\n",
      "Successfully installed langchain-0.2.10 langchain-core-0.2.22 langsmith-0.1.93\n"
     ]
    }
   ],
   "execution_count": 14
  },
  {
   "cell_type": "markdown",
   "id": "c81a7df0-26c7-4eb8-92f1-cc54445cf507",
   "metadata": {},
   "source": [
    "## LLMChain\n",
    "\n",
    "LLMChain 是 LangChain 中最简单的链，作为其他复杂 Chains 和 Agents 的内部调用，被广泛应用。\n",
    "\n",
    "一个LLMChain由PromptTemplate和语言模型（LLM or Chat Model）组成。它使用直接传入（或 memory 提供）的 key-value 来规范化生成 Prompt Template（提示模板），并将生成的 prompt （格式化后的字符串）传递给大模型，并返回大模型输出。\n",
    "\n",
    "![](../images/llm_chain.png)"
   ]
  },
  {
   "cell_type": "markdown",
   "id": "4fbd5ca7-ca54-4701-919c-2857266caefc",
   "metadata": {},
   "source": [
    "## Router Chain: 实现条件判断的大模型调用\n",
    "\n",
    "\n",
    "这段代码构建了一个可定制的链路系统，用户可以提供不同的输入提示，并根据这些提示获取适当的响应。\n",
    "\n",
    "主要逻辑：从`prompt_infos`创建多个`LLMChain`对象，并将它们保存在一个字典中，然后创建一个默认的`ConversationChain`，最后创建一个带有路由功能的`MultiPromptChain`。\n",
    "\n",
    "![](../images/router_chain.png)"
   ]
  },
  {
   "cell_type": "code",
   "id": "aaf8c391-9225-4e66-ad4d-d689b53a0379",
   "metadata": {
    "ExecuteTime": {
     "end_time": "2024-07-23T08:06:29.062060Z",
     "start_time": "2024-07-23T08:06:29.052365Z"
    }
   },
   "source": [
    "from langchain.chains.router import MultiPromptChain\n",
    "from langchain_openai import OpenAI\n",
    "from langchain.chains import ConversationChain\n",
    "from langchain.chains.llm import LLMChain\n",
    "from langchain.prompts import PromptTemplate"
   ],
   "outputs": [],
   "execution_count": 15
  },
  {
   "cell_type": "code",
   "id": "33b5061c-391e-4762-91c7-73b57f4ab501",
   "metadata": {
    "ExecuteTime": {
     "end_time": "2024-07-23T08:16:10.013053Z",
     "start_time": "2024-07-23T08:16:09.981392Z"
    }
   },
   "source": [
    "physics_template = \"\"\"你是一位非常聪明的物理教授。\n",
    "你擅长以简洁易懂的方式回答关于物理的问题。\n",
    "当你不知道某个问题的答案时，你会坦诚承认。\n",
    "\n",
    "这是一个问题：\n",
    "{input}\"\"\"\n",
    "\n",
    "\n",
    "math_template = \"\"\"你是一位很棒的数学家。你擅长回答数学问题。\n",
    "之所以如此出色，是因为你能够将难题分解成各个组成部分，\n",
    "先回答这些组成部分，然后再将它们整合起来回答更广泛的问题。\n",
    "\n",
    "这是一个问题：\n",
    "{input}\"\"\"\n",
    "\n",
    "biology_template = \"\"\"你是一位非常聪明的生物老师。\n",
    "你擅长以简洁易懂的方式回答关于生物学的问题。\n",
    "当你不知道某个问题的答案时，你会坦诚承认。\n",
    "\n",
    "这是一个问题：\n",
    "{input}\"\"\"\n",
    "\n",
    "computer_template = \"\"\"你是一位非常出色的计算机老师。\n",
    "你擅长解决计算机科学中的各种问题。\n",
    "你能够将复杂的概念分解成易于理解的部分，然后逐一解答。\n",
    "\n",
    "这是一个问题：\n",
    "{input}\"\"\"\n",
    "\n",
    "cll_template = \"\"\"你是一位博学的汉语言文学老师。\n",
    "你擅长解释汉语言文学中的各种问题。\n",
    "你能够将复杂的文学概念和语言知识以简洁明了的方式呈现。\n",
    "\n",
    "这是一个问题：\n",
    "{input}\"\"\""
   ],
   "outputs": [],
   "execution_count": 24
  },
  {
   "cell_type": "code",
   "id": "5ef1db6e-3da4-4f9b-9707-0f30aa293dd7",
   "metadata": {
    "ExecuteTime": {
     "end_time": "2024-07-23T08:16:11.730118Z",
     "start_time": "2024-07-23T08:16:11.714108Z"
    }
   },
   "source": [
    "prompt_infos = [\n",
    "    {\n",
    "        \"name\": \"物理\",\n",
    "        \"description\": \"适用于回答物理问题\",\n",
    "        \"prompt_template\": physics_template,\n",
    "    },\n",
    "    {\n",
    "        \"name\": \"数学\",\n",
    "        \"description\": \"适用于回答数学问题\",\n",
    "        \"prompt_template\": math_template,\n",
    "    },\n",
    "    {\n",
    "        \"name\": \"生物\",\n",
    "        \"description\": \"适用于回答生物问题\",\n",
    "        \"prompt_template\": biology_template,\n",
    "    },\n",
    "    {\n",
    "        \"name\": \"计算机\",\n",
    "        \"description\": \"适用于回答计算机问题\",\n",
    "        \"prompt_template\": computer_template,\n",
    "    },\n",
    "    {\n",
    "        \"name\": \"汉语言文学\",\n",
    "        \"description\": \"适用于回答汉语言文学问题\",\n",
    "        \"prompt_template\": cll_template,\n",
    "    },\n",
    "]"
   ],
   "outputs": [],
   "execution_count": 25
  },
  {
   "cell_type": "code",
   "id": "3983cafe-c2d5-4951-b779-88d844594777",
   "metadata": {
    "ExecuteTime": {
     "end_time": "2024-07-23T08:16:14.034518Z",
     "start_time": "2024-07-23T08:16:13.577300Z"
    }
   },
   "source": [
    "llm = OpenAI(model_name=\"gpt-3.5-turbo-instruct\")"
   ],
   "outputs": [],
   "execution_count": 26
  },
  {
   "cell_type": "code",
   "id": "db8be9f0-1ac2-4ded-8950-6403cfa40004",
   "metadata": {
    "ExecuteTime": {
     "end_time": "2024-07-23T08:16:16.218796Z",
     "start_time": "2024-07-23T08:16:16.203567Z"
    }
   },
   "source": [
    "# 创建一个空的目标链字典，用于存放根据prompt_infos生成的LLMChain。\n",
    "destination_chains = {}\n",
    "\n",
    "# 遍历prompt_infos列表，为每个信息创建一个LLMChain。\n",
    "for p_info in prompt_infos:\n",
    "    name = p_info[\"name\"]  # 提取名称\n",
    "    prompt_template = p_info[\"prompt_template\"]  # 提取模板\n",
    "    # 创建PromptTemplate对象\n",
    "    prompt = PromptTemplate(template=prompt_template, input_variables=[\"input\"])\n",
    "    # 使用上述模板和llm对象创建LLMChain对象\n",
    "    chain = LLMChain(llm=llm, prompt=prompt)\n",
    "    # 将新创建的chain对象添加到destination_chains字典中\n",
    "    destination_chains[name] = chain\n",
    "\n",
    "# 创建一个默认的ConversationChain\n",
    "default_chain = ConversationChain(llm=llm, output_key=\"text\")"
   ],
   "outputs": [],
   "execution_count": 27
  },
  {
   "cell_type": "code",
   "id": "ae77b13a-2077-4e80-83f9-a2b1d8398461",
   "metadata": {
    "ExecuteTime": {
     "end_time": "2024-07-23T08:16:18.367579Z",
     "start_time": "2024-07-23T08:16:18.351530Z"
    }
   },
   "source": [
    "type(default_chain)"
   ],
   "outputs": [
    {
     "data": {
      "text/plain": [
       "langchain.chains.conversation.base.ConversationChain"
      ]
     },
     "execution_count": 28,
     "metadata": {},
     "output_type": "execute_result"
    }
   ],
   "execution_count": 28
  },
  {
   "cell_type": "markdown",
   "id": "f5aa4a82-2d96-4124-8896-4e11e5d5c8e9",
   "metadata": {},
   "source": [
    "### 使用 LLMRouterChain 实现条件判断调用\n",
    "\n",
    "这段代码定义了一个chain对象（LLMRouterChain），该对象首先使用router_chain来决定哪个destination_chain应该被执行，如果没有合适的目标链，则默认使用default_chain。"
   ]
  },
  {
   "cell_type": "code",
   "id": "1c196e6c-e767-4d4f-8327-50ead641bc3a",
   "metadata": {
    "ExecuteTime": {
     "end_time": "2024-07-23T08:16:23.206741Z",
     "start_time": "2024-07-23T08:16:23.198189Z"
    }
   },
   "source": [
    "from langchain.chains.router.llm_router import LLMRouterChain, RouterOutputParser\n",
    "from langchain.chains.router.multi_prompt_prompt import MULTI_PROMPT_ROUTER_TEMPLATE"
   ],
   "outputs": [],
   "execution_count": 29
  },
  {
   "cell_type": "code",
   "id": "f5ada86e-e430-412c-828d-b053b630f07c",
   "metadata": {
    "ExecuteTime": {
     "end_time": "2024-07-23T08:16:24.081133Z",
     "start_time": "2024-07-23T08:16:24.065022Z"
    }
   },
   "source": [
    "# 从prompt_infos中提取目标信息并将其转化为字符串列表\n",
    "destinations = [f\"{p['name']}: {p['description']}\" for p in prompt_infos]\n",
    "# 使用join方法将列表转化为字符串，每个元素之间用换行符分隔\n",
    "destinations_str = \"\\n\".join(destinations)\n",
    "# 根据MULTI_PROMPT_ROUTER_TEMPLATE格式化字符串和destinations_str创建路由模板\n",
    "router_template = MULTI_PROMPT_ROUTER_TEMPLATE.format(destinations=destinations_str)\n",
    "# 创建路由的PromptTemplate\n",
    "router_prompt = PromptTemplate(\n",
    "    template=router_template,\n",
    "    input_variables=[\"input\"],\n",
    "    output_parser=RouterOutputParser(),\n",
    ")\n",
    "# 使用上述路由模板和llm对象创建LLMRouterChain对象\n",
    "router_chain = LLMRouterChain.from_llm(llm, router_prompt)"
   ],
   "outputs": [],
   "execution_count": 30
  },
  {
   "cell_type": "code",
   "id": "8c1013dc-ae1f-468d-96b3-4babe0d50d1f",
   "metadata": {
    "ExecuteTime": {
     "end_time": "2024-07-23T08:16:26.224210Z",
     "start_time": "2024-07-23T08:16:26.196965Z"
    }
   },
   "source": [
    "print(destinations)"
   ],
   "outputs": [
    {
     "name": "stdout",
     "output_type": "stream",
     "text": [
      "['物理: 适用于回答物理问题', '数学: 适用于回答数学问题', '生物: 适用于回答生物问题', '计算机: 适用于回答计算机问题', '汉语言文学: 适用于回答汉语言文学问题']\n"
     ]
    }
   ],
   "execution_count": 31
  },
  {
   "cell_type": "code",
   "id": "a85ef126-aca1-40c2-8e01-d15af5500785",
   "metadata": {
    "ExecuteTime": {
     "end_time": "2024-07-23T08:16:30.600118Z",
     "start_time": "2024-07-23T08:16:30.576420Z"
    }
   },
   "source": [
    "print(destinations_str)"
   ],
   "outputs": [
    {
     "name": "stdout",
     "output_type": "stream",
     "text": [
      "物理: 适用于回答物理问题\n",
      "数学: 适用于回答数学问题\n",
      "生物: 适用于回答生物问题\n",
      "计算机: 适用于回答计算机问题\n",
      "汉语言文学: 适用于回答汉语言文学问题\n"
     ]
    }
   ],
   "execution_count": 32
  },
  {
   "cell_type": "code",
   "id": "5db81fcb-704a-4250-a6b5-210e4be77af5",
   "metadata": {
    "ExecuteTime": {
     "end_time": "2024-07-23T08:16:33.238490Z",
     "start_time": "2024-07-23T08:16:33.222862Z"
    }
   },
   "source": [
    "print(MULTI_PROMPT_ROUTER_TEMPLATE)"
   ],
   "outputs": [
    {
     "name": "stdout",
     "output_type": "stream",
     "text": [
      "Given a raw text input to a language model select the model prompt best suited for the input. You will be given the names of the available prompts and a description of what the prompt is best suited for. You may also revise the original input if you think that revising it will ultimately lead to a better response from the language model.\n",
      "\n",
      "<< FORMATTING >>\n",
      "Return a markdown code snippet with a JSON object formatted to look like:\n",
      "```json\n",
      "{{{{\n",
      "    \"destination\": string \\ name of the prompt to use or \"DEFAULT\"\n",
      "    \"next_inputs\": string \\ a potentially modified version of the original input\n",
      "}}}}\n",
      "```\n",
      "\n",
      "REMEMBER: \"destination\" MUST be one of the candidate prompt names specified below OR it can be \"DEFAULT\" if the input is not well suited for any of the candidate prompts.\n",
      "REMEMBER: \"next_inputs\" can just be the original input if you don't think any modifications are needed.\n",
      "\n",
      "<< CANDIDATE PROMPTS >>\n",
      "{destinations}\n",
      "\n",
      "<< INPUT >>\n",
      "{{input}}\n",
      "\n",
      "<< OUTPUT (must include ```json at the start of the response) >>\n",
      "<< OUTPUT (must end with ```) >>\n",
      "\n"
     ]
    }
   ],
   "execution_count": 33
  },
  {
   "cell_type": "code",
   "id": "f882244c-1fa6-4d74-a44c-578c9fb25e18",
   "metadata": {
    "ExecuteTime": {
     "end_time": "2024-07-23T08:16:41.338844Z",
     "start_time": "2024-07-23T08:16:41.323207Z"
    }
   },
   "source": [
    "print(router_template)"
   ],
   "outputs": [
    {
     "name": "stdout",
     "output_type": "stream",
     "text": [
      "Given a raw text input to a language model select the model prompt best suited for the input. You will be given the names of the available prompts and a description of what the prompt is best suited for. You may also revise the original input if you think that revising it will ultimately lead to a better response from the language model.\n",
      "\n",
      "<< FORMATTING >>\n",
      "Return a markdown code snippet with a JSON object formatted to look like:\n",
      "```json\n",
      "{{\n",
      "    \"destination\": string \\ name of the prompt to use or \"DEFAULT\"\n",
      "    \"next_inputs\": string \\ a potentially modified version of the original input\n",
      "}}\n",
      "```\n",
      "\n",
      "REMEMBER: \"destination\" MUST be one of the candidate prompt names specified below OR it can be \"DEFAULT\" if the input is not well suited for any of the candidate prompts.\n",
      "REMEMBER: \"next_inputs\" can just be the original input if you don't think any modifications are needed.\n",
      "\n",
      "<< CANDIDATE PROMPTS >>\n",
      "物理: 适用于回答物理问题\n",
      "数学: 适用于回答数学问题\n",
      "生物: 适用于回答生物问题\n",
      "计算机: 适用于回答计算机问题\n",
      "汉语言文学: 适用于回答汉语言文学问题\n",
      "\n",
      "<< INPUT >>\n",
      "{input}\n",
      "\n",
      "<< OUTPUT (must include ```json at the start of the response) >>\n",
      "<< OUTPUT (must end with ```) >>\n",
      "\n"
     ]
    }
   ],
   "execution_count": 34
  },
  {
   "cell_type": "code",
   "id": "c2a482e4-5757-4295-a3d8-c3fdd1d4abd2",
   "metadata": {
    "ExecuteTime": {
     "end_time": "2024-07-23T08:16:48.049423Z",
     "start_time": "2024-07-23T08:16:48.033791Z"
    }
   },
   "source": [
    "# 创建MultiPromptChain对象，其中包含了路由链，目标链和默认链。\n",
    "chain = MultiPromptChain(\n",
    "    router_chain=router_chain,\n",
    "    destination_chains=destination_chains,\n",
    "    default_chain=default_chain,\n",
    "    verbose=True,\n",
    ")"
   ],
   "outputs": [],
   "execution_count": 35
  },
  {
   "cell_type": "code",
   "id": "128bb7a0-b176-4b14-835e-8aaa723ab441",
   "metadata": {
    "ExecuteTime": {
     "end_time": "2024-07-23T08:06:55.172285Z",
     "start_time": "2024-07-23T08:06:52.663986Z"
    }
   },
   "source": [
    "print(chain.invoke(\"黑体辐射是什么？?\"))"
   ],
   "outputs": [
    {
     "name": "stdout",
     "output_type": "stream",
     "text": [
      "{'input': '黑体辐射是什么？?', 'text': '\\n\\n黑体辐射是指理想的物体在一定温度下发出的电磁辐射，其特点是辐射功率与波长和温度相关，且在任何波长下都有辐射。它的研究对于理解物质的微观结构和能量转换有着重要意义。'}\n"
     ]
    }
   ],
   "execution_count": 22
  },
  {
   "cell_type": "code",
   "id": "cd869807-9cec-4bb2-9104-ecc4efce9baa",
   "metadata": {
    "ExecuteTime": {
     "end_time": "2024-07-23T08:07:12.012801Z",
     "start_time": "2024-07-23T08:07:08.162544Z"
    }
   },
   "source": [
    "print(\n",
    "    chain.invoke(\n",
    "        \"大于40的第一个质数是多少，使得这个质数加一能被3整除？\"\n",
    "    )\n",
    ")"
   ],
   "outputs": [
    {
     "name": "stdout",
     "output_type": "stream",
     "text": [
      "{'input': '大于40的第一个质数是多少，使得这个质数加一能被3整除？', 'text': '\\n\\n首先，我们需要了解什么是质数。质数是指除了1和它本身之外，没有其他因数的自然数。\\n所以，我们需要从大于40的数开始逐个判断是否为质数。首先我们可以跳过所有的偶数，因为除了2之外，所有的偶数都不是质数。\\n那么我们可以从41开始，41是一个质数。接下来，我们需要将这个质数加一，得到42。42除以3，余数是0，说明42加一能被3整除。\\n所以，大于40的第一个质数是41，使得这个质数加一能被3整除。'}\n"
     ]
    }
   ],
   "execution_count": 23
  },
  {
   "cell_type": "code",
   "id": "7ad5dcb2-48c0-4d0f-b6cc-09ebcbdce75e",
   "metadata": {
    "ExecuteTime": {
     "end_time": "2024-07-23T08:17:12.414728Z",
     "start_time": "2024-07-23T08:17:12.404245Z"
    }
   },
   "source": [
    "router_chain.verbose = True"
   ],
   "outputs": [],
   "execution_count": 36
  },
  {
   "cell_type": "code",
   "id": "bd37e004-bb24-4929-992c-34407593d86e",
   "metadata": {
    "ExecuteTime": {
     "end_time": "2024-07-23T08:17:21.097013Z",
     "start_time": "2024-07-23T08:17:14.054084Z"
    }
   },
   "source": [
    "print(chain.invoke(\"黑洞是什么？\"))"
   ],
   "outputs": [
    {
     "name": "stdout",
     "output_type": "stream",
     "text": [
      "\n",
      "\n",
      "\u001B[1m> Entering new MultiPromptChain chain...\u001B[0m\n",
      "\n",
      "\n",
      "\u001B[1m> Entering new LLMRouterChain chain...\u001B[0m\n",
      "\n",
      "\u001B[1m> Finished chain.\u001B[0m\n",
      "物理: {'input': '什么是黑洞？'}\n",
      "\u001B[1m> Finished chain.\u001B[0m\n",
      "{'input': '什么是黑洞？', 'text': '\\n\\n黑洞是宇宙中一种极为密集的天体，它的密度非常高，甚至使光线无法逃离它的引力。它的形成通常是由于恒星在死亡过程中塌缩形成的，也可以是由于两个天体的碰撞造成的。黑洞有着非常强大的引力，甚至可以吞噬周围的物质，因此被称为宇宙中最强大的吸力。它的存在可以解释许多宇宙现象，如星系中心的超大质量黑洞和宇宙辐射背景。尽管我们无法直接观测黑洞，但通过间接的观测和理论模型，我们可以推断出它们的存在。 '}\n"
     ]
    }
   ],
   "execution_count": 37
  },
  {
   "cell_type": "code",
   "id": "a51119ed-025f-48d7-ad81-cd9cdab7090f",
   "metadata": {
    "ExecuteTime": {
     "end_time": "2024-07-23T08:17:54.863341Z",
     "start_time": "2024-07-23T08:17:50.107317Z"
    }
   },
   "source": "print(chain.invoke(\"c++和java的区别？\"))",
   "outputs": [
    {
     "name": "stdout",
     "output_type": "stream",
     "text": [
      "\n",
      "\n",
      "\u001B[1m> Entering new MultiPromptChain chain...\u001B[0m\n",
      "\n",
      "\n",
      "\u001B[1m> Entering new LLMRouterChain chain...\u001B[0m\n",
      "\n",
      "\u001B[1m> Finished chain.\u001B[0m\n",
      "计算机: {'input': 'c++和java的区别?'}\n",
      "\u001B[1m> Finished chain.\u001B[0m\n",
      "{'input': 'c++和java的区别?', 'text': '\\n\\nc++和java是两种不同的编程语言，它们有以下几点区别：\\n\\n1. 语言类型：c++是一种编译型语言，需要先将代码编译成可执行文件才能运行，而java是一种解释型语言，代码是通过解释器运行的。\\n\\n2. 内存管理：c++需要程序员手动管理内存，包括分配和释放，而java由垃圾回收机制自动管理内存，减少了程序员的工作量。\\n\\n3. 平台兼容性：c++是一个跨平台语言，可以在不同的操作系统上运行，但是需要根据不同的平台重新编译；而java是一种完全跨平台的语言，一次编写，到处运行。\\n\\n4. 面向对象：c++和java都是面向对象的语言，但是c++对面向对象的支持更加灵活，可以使用多重'}\n"
     ]
    }
   ],
   "execution_count": 38
  },
  {
   "cell_type": "code",
   "id": "cbda2930-a0e6-48b2-8e02-4c3d792f0225",
   "metadata": {
    "ExecuteTime": {
     "end_time": "2024-07-23T08:19:38.365339Z",
     "start_time": "2024-07-23T08:19:32.422813Z"
    }
   },
   "source": "print(chain.invoke(\"人体的细胞是如何分裂的？\"))",
   "outputs": [
    {
     "name": "stdout",
     "output_type": "stream",
     "text": [
      "\n",
      "\n",
      "\u001B[1m> Entering new MultiPromptChain chain...\u001B[0m\n",
      "\n",
      "\n",
      "\u001B[1m> Entering new LLMRouterChain chain...\u001B[0m\n",
      "\n",
      "\u001B[1m> Finished chain.\u001B[0m\n",
      "生物: {'input': '人体细胞是如何分裂的？'}\n",
      "\u001B[1m> Finished chain.\u001B[0m\n",
      "{'input': '人体细胞是如何分裂的？', 'text': '\\n\\n人体细胞的分裂过程被称为有丝分裂，它是一种复杂的过程，分为前期、中期、后期和末期四个阶段。在前期，细胞的染色体会复制，变成一对同样的染色体。在中期，染色体会在细胞中排列成为同一个平面。在后期，染色体会被分开，移向细胞的两端。最后，在末期，细胞会分裂成两个新的细胞，每个细胞都包含一套完整的染色体。这样就实现了细胞的分裂和复制。'}\n"
     ]
    }
   ],
   "execution_count": 42
  },
  {
   "cell_type": "code",
   "id": "24d11e0f-d5ee-4086-9e1a-b21000232134",
   "metadata": {
    "ExecuteTime": {
     "end_time": "2024-07-23T08:19:01.313538Z",
     "start_time": "2024-07-23T08:18:58.020667Z"
    }
   },
   "source": "print(chain.invoke(\"红楼梦的作者是谁？\"))",
   "outputs": [
    {
     "name": "stdout",
     "output_type": "stream",
     "text": [
      "\n",
      "\n",
      "\u001B[1m> Entering new MultiPromptChain chain...\u001B[0m\n",
      "\n",
      "\n",
      "\u001B[1m> Entering new LLMRouterChain chain...\u001B[0m\n",
      "\n",
      "\u001B[1m> Finished chain.\u001B[0m\n",
      "汉语言文学: {'input': '红楼梦的作者是谁？'}\n",
      "\u001B[1m> Finished chain.\u001B[0m\n",
      "{'input': '红楼梦的作者是谁？', 'text': '\\n\\n红楼梦的作者是曹雪芹。'}\n"
     ]
    }
   ],
   "execution_count": 41
  },
  {
   "cell_type": "markdown",
   "id": "8b6836f0-213d-4cac-abc9-3617831be3db",
   "metadata": {},
   "source": [
    "### Homework\n",
    "\n",
    "#### 扩展 Demo：实现生物、计算机和汉语言文学老师 PromptTemplates 及对应 Chains"
   ]
  },
  {
   "cell_type": "code",
   "execution_count": null,
   "id": "1c7edb0a-675d-40c0-9f5d-d58f0170ce72",
   "metadata": {},
   "outputs": [],
   "source": []
  }
 ],
 "metadata": {
  "kernelspec": {
   "display_name": "Python 3 (ipykernel)",
   "language": "python",
   "name": "python3"
  },
  "language_info": {
   "codemirror_mode": {
    "name": "ipython",
    "version": 3
   },
   "file_extension": ".py",
   "mimetype": "text/x-python",
   "name": "python",
   "nbconvert_exporter": "python",
   "pygments_lexer": "ipython3",
   "version": "3.10.14"
  }
 },
 "nbformat": 4,
 "nbformat_minor": 5
}
